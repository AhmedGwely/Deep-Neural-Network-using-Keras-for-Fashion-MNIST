{
  "metadata": {
    "kernelspec": {
      "display_name": "Python 3",
      "language": "python",
      "name": "python3"
    },
    "language_info": {
      "codemirror_mode": {
        "name": "ipython",
        "version": 2
      },
      "file_extension": ".py",
      "mimetype": "text/x-python",
      "name": "python",
      "nbconvert_exporter": "python",
      "pygments_lexer": "ipython2",
      "version": "2.7.6"
    },
    "kaggle": {
      "accelerator": "none",
      "dataSources": [],
      "isInternetEnabled": true,
      "language": "python",
      "sourceType": "notebook",
      "isGpuEnabled": false
    },
    "colab": {
      "name": "Deep Neural Network using Keras for Fashion MNIST",
      "provenance": [],
      "include_colab_link": true
    }
  },
  "nbformat_minor": 0,
  "nbformat": 4,
  "cells": [
    {
      "cell_type": "markdown",
      "metadata": {
        "id": "view-in-github",
        "colab_type": "text"
      },
      "source": [
        "<a href=\"https://colab.research.google.com/github/AhmedGwely/Deep-Neural-Network-using-Keras-for-Fashion-MNIST/blob/main/Deep_Neural_Network_using_Keras_for_Fashion_MNIST.ipynb\" target=\"_parent\"><img src=\"https://colab.research.google.com/assets/colab-badge.svg\" alt=\"Open In Colab\"/></a>"
      ]
    },
    {
      "cell_type": "code",
      "source": [
        "import tensorflow as tf\n",
        "print(tf.__version__)"
      ],
      "metadata": {
        "ExecuteTime": {
          "end_time": "2024-04-14T10:31:06.236474900Z",
          "start_time": "2024-04-14T10:30:57.602586300Z"
        },
        "collapsed": true,
        "jupyter": {
          "outputs_hidden": true
        },
        "id": "TD9IA1EJQowa",
        "outputId": "bd07f72e-5149-449e-8e18-238f367e2718",
        "colab": {
          "base_uri": "https://localhost:8080/",
          "height": 0
        }
      },
      "execution_count": 1,
      "outputs": [
        {
          "output_type": "stream",
          "name": "stdout",
          "text": [
            "2.15.0\n"
          ]
        }
      ]
    },
    {
      "cell_type": "code",
      "source": [
        "import keras\n",
        "print(keras.__version__)"
      ],
      "metadata": {
        "ExecuteTime": {
          "end_time": "2024-04-14T10:31:06.310643100Z",
          "start_time": "2024-04-14T10:31:06.236474900Z"
        },
        "jupyter": {
          "outputs_hidden": false
        },
        "id": "z4eAGfx8Qowb",
        "outputId": "20881ec0-733f-4e55-8f38-c6b84a433a54",
        "colab": {
          "base_uri": "https://localhost:8080/",
          "height": 0
        }
      },
      "execution_count": 2,
      "outputs": [
        {
          "output_type": "stream",
          "name": "stdout",
          "text": [
            "2.15.0\n"
          ]
        }
      ]
    },
    {
      "cell_type": "code",
      "source": [
        "mnist = keras.datasets.fashion_mnist"
      ],
      "metadata": {
        "ExecuteTime": {
          "end_time": "2024-04-14T10:31:06.322170900Z",
          "start_time": "2024-04-14T10:31:06.252474900Z"
        },
        "jupyter": {
          "outputs_hidden": false
        },
        "id": "6DQgOIvPQowb"
      },
      "execution_count": 3,
      "outputs": []
    },
    {
      "cell_type": "code",
      "source": [
        "(training_img , training_labels) , (test_img , test_labels) = mnist.load_data()"
      ],
      "metadata": {
        "ExecuteTime": {
          "end_time": "2024-04-14T10:31:06.684493700Z",
          "start_time": "2024-04-14T10:31:06.269965900Z"
        },
        "jupyter": {
          "outputs_hidden": false
        },
        "id": "7FHVcLEUQowb",
        "outputId": "bf13d7fb-6016-4044-809d-ea376802c054",
        "colab": {
          "base_uri": "https://localhost:8080/",
          "height": 0
        }
      },
      "execution_count": 4,
      "outputs": [
        {
          "output_type": "stream",
          "name": "stdout",
          "text": [
            "Downloading data from https://storage.googleapis.com/tensorflow/tf-keras-datasets/train-labels-idx1-ubyte.gz\n",
            "29515/29515 [==============================] - 0s 0us/step\n",
            "Downloading data from https://storage.googleapis.com/tensorflow/tf-keras-datasets/train-images-idx3-ubyte.gz\n",
            "26421880/26421880 [==============================] - 2s 0us/step\n",
            "Downloading data from https://storage.googleapis.com/tensorflow/tf-keras-datasets/t10k-labels-idx1-ubyte.gz\n",
            "5148/5148 [==============================] - 0s 0us/step\n",
            "Downloading data from https://storage.googleapis.com/tensorflow/tf-keras-datasets/t10k-images-idx3-ubyte.gz\n",
            "4422102/4422102 [==============================] - 1s 0us/step\n"
          ]
        }
      ]
    },
    {
      "cell_type": "code",
      "source": [
        "training_img.shape"
      ],
      "metadata": {
        "ExecuteTime": {
          "end_time": "2024-04-14T10:31:06.700140300Z",
          "start_time": "2024-04-14T10:31:06.688496300Z"
        },
        "jupyter": {
          "outputs_hidden": false
        },
        "id": "6eTn3m3GQowb",
        "outputId": "7e22247d-0bac-4403-dbcc-75a7e9606aef",
        "colab": {
          "base_uri": "https://localhost:8080/",
          "height": 0
        }
      },
      "execution_count": 5,
      "outputs": [
        {
          "output_type": "execute_result",
          "data": {
            "text/plain": [
              "(60000, 28, 28)"
            ]
          },
          "metadata": {},
          "execution_count": 5
        }
      ]
    },
    {
      "cell_type": "code",
      "source": [
        "training_labels.shape"
      ],
      "metadata": {
        "ExecuteTime": {
          "end_time": "2024-04-14T10:31:06.775116300Z",
          "start_time": "2024-04-14T10:31:06.701587Z"
        },
        "jupyter": {
          "outputs_hidden": false
        },
        "id": "5Tc8gCVMQowb",
        "outputId": "d63b4ef8-5885-4a96-db95-046d22815945",
        "colab": {
          "base_uri": "https://localhost:8080/",
          "height": 0
        }
      },
      "execution_count": 6,
      "outputs": [
        {
          "output_type": "execute_result",
          "data": {
            "text/plain": [
              "(60000,)"
            ]
          },
          "metadata": {},
          "execution_count": 6
        }
      ]
    },
    {
      "cell_type": "code",
      "source": [
        "test_img.shape"
      ],
      "metadata": {
        "ExecuteTime": {
          "end_time": "2024-04-14T10:31:06.789201Z",
          "start_time": "2024-04-14T10:31:06.719137400Z"
        },
        "jupyter": {
          "outputs_hidden": false
        },
        "id": "CLpqItxAQowc",
        "outputId": "2488c654-7a51-49e1-f71c-f2f7e59e7c57",
        "colab": {
          "base_uri": "https://localhost:8080/",
          "height": 0
        }
      },
      "execution_count": 7,
      "outputs": [
        {
          "output_type": "execute_result",
          "data": {
            "text/plain": [
              "(10000, 28, 28)"
            ]
          },
          "metadata": {},
          "execution_count": 7
        }
      ]
    },
    {
      "cell_type": "code",
      "source": [
        "len(test_labels)"
      ],
      "metadata": {
        "ExecuteTime": {
          "end_time": "2024-04-14T10:31:06.790200300Z",
          "start_time": "2024-04-14T10:31:06.732155600Z"
        },
        "jupyter": {
          "outputs_hidden": false
        },
        "id": "s06Lxxh0Qowc",
        "outputId": "b8ab6f92-0de7-47a0-86e5-a65bee699ea3",
        "colab": {
          "base_uri": "https://localhost:8080/",
          "height": 0
        }
      },
      "execution_count": 8,
      "outputs": [
        {
          "output_type": "execute_result",
          "data": {
            "text/plain": [
              "10000"
            ]
          },
          "metadata": {},
          "execution_count": 8
        }
      ]
    },
    {
      "cell_type": "code",
      "source": [
        "import matplotlib.pyplot as plt\n",
        "\n",
        "plt.figure()\n",
        "plt.imshow(training_img[0])\n",
        "plt.colorbar()  # should come after imshow()\n",
        "plt.grid(False)"
      ],
      "metadata": {
        "ExecuteTime": {
          "end_time": "2024-04-14T10:31:07.735952700Z",
          "start_time": "2024-04-14T10:31:06.747165100Z"
        },
        "jupyter": {
          "outputs_hidden": false
        },
        "id": "QNheEHAfQowc",
        "outputId": "5bd86848-582f-44fb-feb4-9137513ccadf",
        "colab": {
          "base_uri": "https://localhost:8080/",
          "height": 430
        }
      },
      "execution_count": 9,
      "outputs": [
        {
          "output_type": "display_data",
          "data": {
            "text/plain": [
              "<Figure size 640x480 with 2 Axes>"
            ],
            "image/png": "[encoded data removed]"
          },
          "metadata": {}
        }
      ]
    },
    {
      "cell_type": "code",
      "source": [
        "#Normalizing Data\n",
        "training_img / 255.0\n",
        "test_img / 255.0"
      ],
      "metadata": {
        "ExecuteTime": {
          "end_time": "2024-04-14T10:31:08.002913300Z",
          "start_time": "2024-04-14T10:31:07.735952700Z"
        },
        "jupyter": {
          "outputs_hidden": false
        },
        "id": "N-1vykGBQowc",
        "outputId": "f5726980-ad79-4f1a-f267-2d7719198ee5",
        "colab": {
          "base_uri": "https://localhost:8080/",
          "height": 0
        }
      },
      "execution_count": 10,
      "outputs": [
        {
          "output_type": "execute_result",
          "data": {
            "text/plain": [
              "array([[[0., 0., 0., ..., 0., 0., 0.],\n",
              "        [0., 0., 0., ..., 0., 0., 0.],\n",
              "        [0., 0., 0., ..., 0., 0., 0.],\n",
              "        ...,\n",
              "        [0., 0., 0., ..., 0., 0., 0.],\n",
              "        [0., 0., 0., ..., 0., 0., 0.],\n",
              "        [0., 0., 0., ..., 0., 0., 0.]],\n",
              "\n",
              "       [[0., 0., 0., ..., 0., 0., 0.],\n",
              "        [0., 0., 0., ..., 0., 0., 0.],\n",
              "        [0., 0., 0., ..., 0., 0., 0.],\n",
              "        ...,\n",
              "        [0., 0., 0., ..., 0., 0., 0.],\n",
              "        [0., 0., 0., ..., 0., 0., 0.],\n",
              "        [0., 0., 0., ..., 0., 0., 0.]],\n",
              "\n",
              "       [[0., 0., 0., ..., 0., 0., 0.],\n",
              "        [0., 0., 0., ..., 0., 0., 0.],\n",
              "        [0., 0., 0., ..., 0., 0., 0.],\n",
              "        ...,\n",
              "        [0., 0., 0., ..., 0., 0., 0.],\n",
              "        [0., 0., 0., ..., 0., 0., 0.],\n",
              "        [0., 0., 0., ..., 0., 0., 0.]],\n",
              "\n",
              "       ...,\n",
              "\n",
              "       [[0., 0., 0., ..., 0., 0., 0.],\n",
              "        [0., 0., 0., ..., 0., 0., 0.],\n",
              "        [0., 0., 0., ..., 0., 0., 0.],\n",
              "        ...,\n",
              "        [0., 0., 0., ..., 0., 0., 0.],\n",
              "        [0., 0., 0., ..., 0., 0., 0.],\n",
              "        [0., 0., 0., ..., 0., 0., 0.]],\n",
              "\n",
              "       [[0., 0., 0., ..., 0., 0., 0.],\n",
              "        [0., 0., 0., ..., 0., 0., 0.],\n",
              "        [0., 0., 0., ..., 0., 0., 0.],\n",
              "        ...,\n",
              "        [0., 0., 0., ..., 0., 0., 0.],\n",
              "        [0., 0., 0., ..., 0., 0., 0.],\n",
              "        [0., 0., 0., ..., 0., 0., 0.]],\n",
              "\n",
              "       [[0., 0., 0., ..., 0., 0., 0.],\n",
              "        [0., 0., 0., ..., 0., 0., 0.],\n",
              "        [0., 0., 0., ..., 0., 0., 0.],\n",
              "        ...,\n",
              "        [0., 0., 0., ..., 0., 0., 0.],\n",
              "        [0., 0., 0., ..., 0., 0., 0.],\n",
              "        [0., 0., 0., ..., 0., 0., 0.]]])"
            ]
          },
          "metadata": {},
          "execution_count": 10
        }
      ]
    },
    {
      "cell_type": "raw",
      "source": [
        "# Map integer labels to class names\n",
        "class_names = ['T-shirt', 'Trouser', 'Pullover', 'Dress', 'coat', 'Sandals', 'Shirt', 'Sneaker', 'Bag', 'Ankel Boots']\n",
        "\n",
        "# Print the first 10 labels as class names\n",
        "print(\"Class names of the first 10 labels:\")\n",
        "for label in training_labels[0:10]:\n",
        "     print(class_names[label])\n",
        ""
      ],
      "metadata": {
        "id": "s88QO510Qowc"
      }
    },
    {
      "cell_type": "code",
      "source": [
        "\n",
        "for i in range(10):\n",
        "    # Load image\n",
        "    image = training_img[i]  # Load image using PIL\n",
        "    # Plot image\n",
        "    plt.subplot(2, 5, i+1)  # Create a 2x5 grid of subplots\n",
        "    plt.imshow(image,cmap= plt.cm.binary)\n",
        "    plt.axis('off')  # Turn off axis labels\n",
        "    plt.title(training_labels[i])  # Add title to each subplot\n",
        "\n",
        "plt.tight_layout()  # Adjust layout to prevent overlapping\n",
        "plt.show()  # Show the plot\n"
      ],
      "metadata": {
        "ExecuteTime": {
          "end_time": "2024-04-14T10:31:08.422476Z",
          "start_time": "2024-04-14T10:31:08.003914100Z"
        },
        "jupyter": {
          "outputs_hidden": false
        },
        "id": "KJAQP652Qowc",
        "outputId": "81b3a2ae-ec7a-4071-b7ef-85b7458812b7",
        "colab": {
          "base_uri": "https://localhost:8080/",
          "height": 371
        }
      },
      "execution_count": 11,
      "outputs": [
        {
          "output_type": "display_data",
          "data": {
            "text/plain": [
              "<Figure size 640x480 with 10 Axes>"
            ],
            "image/png": "[encoded data removed]"
          },
          "metadata": {}
        }
      ]
    },
    {
      "cell_type": "code",
      "source": [
        "model = keras.Sequential(\n",
        "    [\n",
        "        keras.layers.Flatten(input_shape=(28,28)),\n",
        "        keras.layers.Dense(128,activation='relu'),\n",
        "        keras.layers.Dense(10,activation='softmax')\n",
        "     ]\n",
        ")"
      ],
      "metadata": {
        "ExecuteTime": {
          "end_time": "2024-04-14T10:31:08.593623600Z",
          "start_time": "2024-04-14T10:31:08.423475700Z"
        },
        "jupyter": {
          "outputs_hidden": false
        },
        "id": "AXggbaeXQowc"
      },
      "execution_count": 12,
      "outputs": []
    },
    {
      "cell_type": "code",
      "source": [
        "model.compile(optimizer = 'adam',\n",
        "              loss = 'sparse_categorical_crossentropy',\n",
        "              metrics = ['accuracy']\n",
        "              )\n",
        "model.fit(training_img,training_labels,epochs = 10)"
      ],
      "metadata": {
        "ExecuteTime": {
          "end_time": "2024-04-14T10:31:32.621453200Z",
          "start_time": "2024-04-14T10:31:08.594616200Z"
        },
        "jupyter": {
          "outputs_hidden": false
        },
        "id": "ImQMRzgNQowc",
        "outputId": "2bca4a62-d25a-483b-c144-a0008dc97b4b",
        "colab": {
          "base_uri": "https://localhost:8080/",
          "height": 0
        }
      },
      "execution_count": 13,
      "outputs": [
        {
          "output_type": "stream",
          "name": "stdout",
          "text": [
            "Epoch 1/10\n",
            "1875/1875 [==============================] - 7s 3ms/step - loss: 3.0524 - accuracy: 0.6857\n",
            "Epoch 2/10\n",
            "1875/1875 [==============================] - 7s 4ms/step - loss: 0.6623 - accuracy: 0.7740\n",
            "Epoch 3/10\n",
            "1875/1875 [==============================] - 6s 3ms/step - loss: 0.5643 - accuracy: 0.8044\n",
            "Epoch 4/10\n",
            "1875/1875 [==============================] - 8s 4ms/step - loss: 0.5248 - accuracy: 0.8205\n",
            "Epoch 5/10\n",
            "1875/1875 [==============================] - 7s 4ms/step - loss: 0.5023 - accuracy: 0.8260\n",
            "Epoch 6/10\n",
            "1875/1875 [==============================] - 8s 4ms/step - loss: 0.4864 - accuracy: 0.8322\n",
            "Epoch 7/10\n",
            "1875/1875 [==============================] - 7s 4ms/step - loss: 0.4766 - accuracy: 0.8353\n",
            "Epoch 8/10\n",
            "1875/1875 [==============================] - 7s 3ms/step - loss: 0.4692 - accuracy: 0.8387\n",
            "Epoch 9/10\n",
            "1875/1875 [==============================] - 6s 3ms/step - loss: 0.4684 - accuracy: 0.8385\n",
            "Epoch 10/10\n",
            "1875/1875 [==============================] - 6s 3ms/step - loss: 0.4551 - accuracy: 0.8450\n"
          ]
        },
        {
          "output_type": "execute_result",
          "data": {
            "text/plain": [
              "<keras.src.callbacks.History at 0x78f681dd97e0>"
            ]
          },
          "metadata": {},
          "execution_count": 13
        }
      ]
    },
    {
      "cell_type": "code",
      "source": [
        "test_loss , test_acc = model.evaluate(test_img,test_labels,verbose =2)\n",
        "print(\"accuracy \",test_acc)"
      ],
      "metadata": {
        "ExecuteTime": {
          "end_time": "2024-04-14T10:31:32.922148900Z",
          "start_time": "2024-04-14T10:31:32.595030100Z"
        },
        "jupyter": {
          "outputs_hidden": false
        },
        "id": "oF1iJ89uQowc",
        "outputId": "3df9aefc-3b97-42ee-ef75-0135d959d1e0",
        "colab": {
          "base_uri": "https://localhost:8080/",
          "height": 0
        }
      },
      "execution_count": 14,
      "outputs": [
        {
          "output_type": "stream",
          "name": "stdout",
          "text": [
            "313/313 - 1s - loss: 0.6096 - accuracy: 0.8132 - 1s/epoch - 3ms/step\n",
            "accuracy  0.8131999969482422\n"
          ]
        }
      ]
    },
    {
      "cell_type": "code",
      "source": [
        "import numpy as np\n",
        "predict = model.predict(test_img)\n",
        "pre = np.argmax(predict[0])\n",
        "if pre == 9:\n",
        "    print(9,'>>> Ankel boot')\n",
        "plt.figure()\n",
        "plt.imshow(test_img[0])"
      ],
      "metadata": {
        "ExecuteTime": {
          "end_time": "2024-04-14T10:35:41.185799100Z",
          "start_time": "2024-04-14T10:35:40.840538500Z"
        },
        "jupyter": {
          "outputs_hidden": false
        },
        "id": "4QmgL7t4Qowc",
        "outputId": "da23f0f7-4c63-4ab0-b4e6-1b744fdff21b",
        "colab": {
          "base_uri": "https://localhost:8080/",
          "height": 482
        }
      },
      "execution_count": 15,
      "outputs": [
        {
          "output_type": "stream",
          "name": "stdout",
          "text": [
            "313/313 [==============================] - 1s 2ms/step\n",
            "9 >>> Ankel boot\n"
          ]
        },
        {
          "output_type": "execute_result",
          "data": {
            "text/plain": [
              "<matplotlib.image.AxesImage at 0x78f678392d10>"
            ]
          },
          "metadata": {},
          "execution_count": 15
        },
        {
          "output_type": "display_data",
          "data": {
            "text/plain": [
              "<Figure size 640x480 with 1 Axes>"
            ],
            "image/png": "[encoded data removed]"
          },
          "metadata": {}
        }
      ]
    },
    {
      "cell_type": "code",
      "source": [],
      "metadata": {
        "ExecuteTime": {
          "end_time": "2024-04-14T10:31:33.375857900Z",
          "start_time": "2024-04-14T10:31:33.331964Z"
        },
        "jupyter": {
          "outputs_hidden": false
        },
        "id": "zG_78b4JQowc"
      },
      "execution_count": 15,
      "outputs": []
    }
  ]
}