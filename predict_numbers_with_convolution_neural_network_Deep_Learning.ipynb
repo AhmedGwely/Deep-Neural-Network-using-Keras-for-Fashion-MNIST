{
  "nbformat": 4,
  "nbformat_minor": 0,
  "metadata": {
    "colab": {
      "provenance": [],
      "gpuType": "T4",
      "include_colab_link": true
    },
    "kernelspec": {
      "name": "python3",
      "display_name": "Python 3"
    },
    "language_info": {
      "name": "python"
    },
    "accelerator": "GPU"
  },
  "cells": [
    {
      "cell_type": "markdown",
      "metadata": {
        "id": "view-in-github",
        "colab_type": "text"
      },
      "source": [
        "<a href=\"https://colab.research.google.com/github/AhmedGwely/Deep-Neural-Network-using-Keras-for-Fashion-MNIST/blob/main/predict_numbers_with_convolution_neural_network_Deep_Learning.ipynb\" target=\"_parent\"><img src=\"https://colab.research.google.com/assets/colab-badge.svg\" alt=\"Open In Colab\"/></a>"
      ]
    },
    {
      "cell_type": "code",
      "execution_count": null,
      "metadata": {
        "id": "YCR-h0TgTdPJ"
      },
      "outputs": [],
      "source": [
        "from __future__ import print_function\n",
        "import keras\n",
        "from keras.datasets import mnist\n",
        "from keras.models import Sequential\n",
        "from keras.layers import Dense,Dropout,Flatten\n",
        "from keras.layers import Conv2D,MaxPool2D\n",
        "from keras import backend as k"
      ]
    },
    {
      "cell_type": "code",
      "source": [
        "batch_size = 128\n",
        "num_classes = 10\n",
        "epochs = 12"
      ],
      "metadata": {
        "id": "PuvWX4yDU68h"
      },
      "execution_count": null,
      "outputs": []
    },
    {
      "cell_type": "code",
      "source": [
        "img_row , img_column = 28,28\n",
        "(train_imgs, train_labels),(test_imgs,test_labels) = mnist.load_data()"
      ],
      "metadata": {
        "id": "XgYEVdd-k5Jn",
        "colab": {
          "base_uri": "https://localhost:8080/"
        },
        "outputId": "62d247e4-a459-4d36-ee8e-3977140f1604"
      },
      "execution_count": null,
      "outputs": [
        {
          "output_type": "stream",
          "name": "stdout",
          "text": [
            "Downloading data from https://storage.googleapis.com/tensorflow/tf-keras-datasets/mnist.npz\n",
            "11490434/11490434 [==============================] - 0s 0us/step\n"
          ]
        }
      ]
    },
    {
      "cell_type": "code",
      "source": [
        "print(train_imgs.shape,train_labels.shape)"
      ],
      "metadata": {
        "colab": {
          "base_uri": "https://localhost:8080/"
        },
        "id": "Fq4kivnclPw3",
        "outputId": "1616a02d-43bf-4e12-bcf3-10f42b4c1668"
      },
      "execution_count": null,
      "outputs": [
        {
          "output_type": "stream",
          "name": "stdout",
          "text": [
            "(60000, 28, 28) (60000,)\n"
          ]
        }
      ]
    },
    {
      "cell_type": "code",
      "source": [
        "print(test_imgs.shape,test_labels.shape)"
      ],
      "metadata": {
        "colab": {
          "base_uri": "https://localhost:8080/"
        },
        "id": "HwoO3WHknYOw",
        "outputId": "08e4c3b7-2d8d-4718-a16c-5b8111483802"
      },
      "execution_count": null,
      "outputs": [
        {
          "output_type": "stream",
          "name": "stdout",
          "text": [
            "(10000, 28, 28) (10000,)\n"
          ]
        }
      ]
    },
    {
      "cell_type": "code",
      "source": [],
      "metadata": {
        "id": "-LReEPY4UV2D"
      },
      "execution_count": null,
      "outputs": []
    },
    {
      "cell_type": "code",
      "source": [
        "import matplotlib.pyplot as plt\n",
        "plt.figure()\n",
        "plt.imshow(train_imgs[4])\n",
        "plt.colorbar()"
      ],
      "metadata": {
        "colab": {
          "base_uri": "https://localhost:8080/",
          "height": 447
        },
        "id": "IwvxqUU1PpWr",
        "outputId": "f4d80d15-9c48-4c7d-c859-6677e2e353cb"
      },
      "execution_count": null,
      "outputs": [
        {
          "output_type": "execute_result",
          "data": {
            "text/plain": [
              "<matplotlib.colorbar.Colorbar at 0x7b6c8dbe79a0>"
            ]
          },
          "metadata": {},
          "execution_count": 7
        },
        {
          "output_type": "display_data",
          "data": {
            "text/plain": [
              "<Figure size 640x480 with 2 Axes>"
            ],
            "image/png": "[encoded data removed]"
          },
          "metadata": {}
        }
      ]
    },
    {
      "cell_type": "code",
      "source": [
        "for i in range(10):\n",
        "  plt.subplot(4,4,i+1)\n",
        "  plt.imshow(train_imgs[i],cmap = plt.cm.binary)\n",
        "  plt.axis('off')\n",
        "  plt.title(train_labels[i])  # Add title to each subplot\n"
      ],
      "metadata": {
        "colab": {
          "base_uri": "https://localhost:8080/",
          "height": 332
        },
        "id": "B1wqQsi0S9Vi",
        "outputId": "b65acd53-f7be-4312-b774-420431f8dedb"
      },
      "execution_count": null,
      "outputs": [
        {
          "output_type": "display_data",
          "data": {
            "text/plain": [
              "<Figure size 640x480 with 10 Axes>"
            ],
            "image/png": "[encoded data removed]"
          },
          "metadata": {}
        }
      ]
    },
    {
      "cell_type": "code",
      "source": [
        "# Reshape images to have a single channel\n",
        "if k.image_data_format() == 'channels_first':\n",
        "  train_imgs = train_imgs.reshape(train_imgs.shape[0],img_row,img_column,1)\n",
        "  test_imgs = test_imgs.reshape(test_imgs.shape[0],img_row,img_column,1)\n",
        "  input_shape = (img_row,img_column,1)\n",
        "else:\n",
        "  train_imgs = train_imgs.reshape(train_imgs.shape[0],img_row,img_column,1)\n",
        "  test_imgs = test_imgs.reshape(test_imgs.shape[0],img_row,img_column,1)\n",
        "  input_shape = (img_row,img_column,1)  # height, width, channels\n",
        "\n",
        "# Normalize pixel values to the range [0, 1]\n",
        "train_imgs = train_imgs/255.0\n",
        "test_imgs = test_imgs/255.0\n"
      ],
      "metadata": {
        "id": "m5d3MxnGl8Ef"
      },
      "execution_count": null,
      "outputs": []
    },
    {
      "cell_type": "code",
      "source": [
        "print(train_imgs.shape)\n",
        "print(test_imgs.shape)"
      ],
      "metadata": {
        "colab": {
          "base_uri": "https://localhost:8080/"
        },
        "id": "2QZVWuTInQj4",
        "outputId": "2101a8e1-a72e-4d0c-851d-a9b2c4d32047"
      },
      "execution_count": null,
      "outputs": [
        {
          "output_type": "stream",
          "name": "stdout",
          "text": [
            "(60000, 28, 28, 1)\n",
            "(10000, 28, 28, 1)\n"
          ]
        }
      ]
    },
    {
      "cell_type": "code",
      "source": [
        "#converting classes vector to binary classes matrics\n",
        "train_labels = keras.utils.to_categorical(train_labels,num_classes)\n",
        "test_labels = keras.utils.to_categorical(test_labels,num_classes)\n",
        "\n",
        "print(train_labels.shape,test_labels.shape)\n"
      ],
      "metadata": {
        "colab": {
          "base_uri": "https://localhost:8080/"
        },
        "id": "mt2-iP7Fnrxn",
        "outputId": "3a6e70ea-716f-477b-fd05-8ba0d611dde8"
      },
      "execution_count": null,
      "outputs": [
        {
          "output_type": "stream",
          "name": "stdout",
          "text": [
            "(60000, 10) (10000, 10)\n"
          ]
        }
      ]
    },
    {
      "cell_type": "code",
      "source": [
        "from sys import flags\n",
        "model = Sequential()\n",
        "model.add(Conv2D(32,kernel_size=(3,3),activation='relu',kernel_initializer='he_uniform', input_shape=(28, 28, 1))) # input shape is a variable (1,28,28)\n",
        "model.add(Conv2D(64,kernel_size=(3,3),activation='relu'))\n",
        "model.add(MaxPool2D(pool_size=(2,2))) # take the max num in (2,2) in the pixels\n",
        "#MaxPool is the last layer in convolution neural network\n",
        "model.add(Flatten())# make the output from Maxpool layer to one dimention pixels\n",
        "model.add(Dense (100, activation='relu', kernel_initializer='he_uniform'))\n",
        "model.add(Dense(num_classes,activation='softmax')) # num_classes = 10 neurons\n",
        "model.summary()"
      ],
      "metadata": {
        "colab": {
          "base_uri": "https://localhost:8080/"
        },
        "id": "rKzDQYWvogm3",
        "outputId": "ce4d420e-8556-4c21-e186-3c829aeef712"
      },
      "execution_count": null,
      "outputs": [
        {
          "output_type": "stream",
          "name": "stdout",
          "text": [
            "Model: \"sequential\"\n",
            "_________________________________________________________________\n",
            " Layer (type)                Output Shape              Param #   \n",
            "=================================================================\n",
            " conv2d (Conv2D)             (None, 26, 26, 32)        320       \n",
            "                                                                 \n",
            " conv2d_1 (Conv2D)           (None, 24, 24, 64)        18496     \n",
            "                                                                 \n",
            " max_pooling2d (MaxPooling2  (None, 12, 12, 64)        0         \n",
            " D)                                                              \n",
            "                                                                 \n",
            " flatten (Flatten)           (None, 9216)              0         \n",
            "                                                                 \n",
            " dense (Dense)               (None, 100)               921700    \n",
            "                                                                 \n",
            " dense_1 (Dense)             (None, 10)                1010      \n",
            "                                                                 \n",
            "=================================================================\n",
            "Total params: 941526 (3.59 MB)\n",
            "Trainable params: 941526 (3.59 MB)\n",
            "Non-trainable params: 0 (0.00 Byte)\n",
            "_________________________________________________________________\n"
          ]
        }
      ]
    },
    {
      "cell_type": "code",
      "source": [
        "input_shape\n"
      ],
      "metadata": {
        "colab": {
          "base_uri": "https://localhost:8080/"
        },
        "id": "iXKLTmPRtQDH",
        "outputId": "62aab267-09f3-486c-a700-9707f16241f7"
      },
      "execution_count": null,
      "outputs": [
        {
          "output_type": "execute_result",
          "data": {
            "text/plain": [
              "(28, 28, 1)"
            ]
          },
          "metadata": {},
          "execution_count": 13
        }
      ]
    },
    {
      "cell_type": "code",
      "source": [
        "\"\"\"model.compile(optimizer = keras.optimizers.Adadelta(),\n",
        "              loss = keras.losses.categorical_crossentropy,\n",
        "              metrics = ['accuracy']\n",
        "              )\"\"\""
      ],
      "metadata": {
        "colab": {
          "base_uri": "https://localhost:8080/",
          "height": 53
        },
        "id": "15Nu4685vKCs",
        "outputId": "dad32a7b-e184-4c6b-a8b6-7a404ee3bff0"
      },
      "execution_count": null,
      "outputs": [
        {
          "output_type": "execute_result",
          "data": {
            "text/plain": [
              "\"model.compile(optimizer = keras.optimizers.Adadelta(),\\n              loss = keras.losses.categorical_crossentropy,\\n              metrics = ['accuracy']\\n              )\""
            ],
            "application/vnd.google.colaboratory.intrinsic+json": {
              "type": "string"
            }
          },
          "metadata": {},
          "execution_count": 14
        }
      ]
    },
    {
      "cell_type": "code",
      "source": [
        "opt = keras.optimizers.SGD(lr=0.01, momentum=0.9)\n",
        "model.compile(optimizer=opt, loss='categorical_crossentropy', metrics=['accuracy'])\n",
        "\n",
        "model.fit(train_imgs,train_labels,\n",
        "          batch_size=128,\n",
        "          epochs = 12,\n",
        "          verbose=1,\n",
        "          validation_data = (test_imgs,test_labels))"
      ],
      "metadata": {
        "colab": {
          "base_uri": "https://localhost:8080/"
        },
        "id": "YBeVezpmtwYe",
        "outputId": "301088e6-3605-4f62-87b8-b1b6a0c15b1f"
      },
      "execution_count": null,
      "outputs": [
        {
          "output_type": "stream",
          "name": "stderr",
          "text": [
            "WARNING:absl:`lr` is deprecated in Keras optimizer, please use `learning_rate` or use the legacy optimizer, e.g.,tf.keras.optimizers.legacy.SGD.\n"
          ]
        },
        {
          "output_type": "stream",
          "name": "stdout",
          "text": [
            "Epoch 1/12\n",
            "469/469 [==============================] - 8s 9ms/step - loss: 0.2181 - accuracy: 0.9336 - val_loss: 0.0897 - val_accuracy: 0.9728\n",
            "Epoch 2/12\n",
            "469/469 [==============================] - 3s 7ms/step - loss: 0.0630 - accuracy: 0.9811 - val_loss: 0.0514 - val_accuracy: 0.9835\n",
            "Epoch 3/12\n",
            "469/469 [==============================] - 4s 9ms/step - loss: 0.0431 - accuracy: 0.9873 - val_loss: 0.0447 - val_accuracy: 0.9860\n",
            "Epoch 4/12\n",
            "469/469 [==============================] - 4s 8ms/step - loss: 0.0321 - accuracy: 0.9900 - val_loss: 0.0484 - val_accuracy: 0.9845\n",
            "Epoch 5/12\n",
            "469/469 [==============================] - 3s 7ms/step - loss: 0.0250 - accuracy: 0.9923 - val_loss: 0.0329 - val_accuracy: 0.9888\n",
            "Epoch 6/12\n",
            "469/469 [==============================] - 4s 8ms/step - loss: 0.0183 - accuracy: 0.9942 - val_loss: 0.0308 - val_accuracy: 0.9900\n",
            "Epoch 7/12\n",
            "469/469 [==============================] - 3s 7ms/step - loss: 0.0158 - accuracy: 0.9952 - val_loss: 0.0376 - val_accuracy: 0.9886\n",
            "Epoch 8/12\n",
            "469/469 [==============================] - 3s 7ms/step - loss: 0.0113 - accuracy: 0.9968 - val_loss: 0.0340 - val_accuracy: 0.9898\n",
            "Epoch 9/12\n",
            "469/469 [==============================] - 3s 7ms/step - loss: 0.0088 - accuracy: 0.9976 - val_loss: 0.0429 - val_accuracy: 0.9876\n",
            "Epoch 10/12\n",
            "469/469 [==============================] - 4s 8ms/step - loss: 0.0071 - accuracy: 0.9979 - val_loss: 0.0403 - val_accuracy: 0.9880\n",
            "Epoch 11/12\n",
            "469/469 [==============================] - 3s 7ms/step - loss: 0.0052 - accuracy: 0.9988 - val_loss: 0.0360 - val_accuracy: 0.9894\n",
            "Epoch 12/12\n",
            "469/469 [==============================] - 3s 7ms/step - loss: 0.0037 - accuracy: 0.9992 - val_loss: 0.0384 - val_accuracy: 0.9891\n"
          ]
        },
        {
          "output_type": "execute_result",
          "data": {
            "text/plain": [
              "<keras.src.callbacks.History at 0x7b6c8ade25f0>"
            ]
          },
          "metadata": {},
          "execution_count": 15
        }
      ]
    },
    {
      "cell_type": "code",
      "source": [
        "print(\"Train images shape:\", train_imgs.shape)\n",
        "print(\"Train labels shape:\", train_labels.shape)\n"
      ],
      "metadata": {
        "colab": {
          "base_uri": "https://localhost:8080/"
        },
        "id": "Ve2h1mvLHUhb",
        "outputId": "fd1f231a-eca8-4efb-a4df-eccdc91a0f91"
      },
      "execution_count": null,
      "outputs": [
        {
          "output_type": "stream",
          "name": "stdout",
          "text": [
            "Train images shape: (60000, 28, 28, 1)\n",
            "Train labels shape: (60000, 10)\n"
          ]
        }
      ]
    },
    {
      "cell_type": "code",
      "source": [
        "score = model.evaluate(test_imgs,test_labels,verbose=0)\n",
        "score"
      ],
      "metadata": {
        "colab": {
          "base_uri": "https://localhost:8080/"
        },
        "id": "08n8o_36PbzJ",
        "outputId": "961f5a06-5b9f-4c67-b493-0d12b3a72d37"
      },
      "execution_count": null,
      "outputs": [
        {
          "output_type": "execute_result",
          "data": {
            "text/plain": [
              "[0.038359660655260086, 0.9890999794006348]"
            ]
          },
          "metadata": {},
          "execution_count": 17
        }
      ]
    },
    {
      "cell_type": "code",
      "source": [
        "print('score loss', score[0])\n",
        "print('score accuracy', score[1] * 100)"
      ],
      "metadata": {
        "colab": {
          "base_uri": "https://localhost:8080/"
        },
        "id": "vo8n-o1RSodi",
        "outputId": "a0368dab-300b-4863-d032-98043c0a0fdb"
      },
      "execution_count": null,
      "outputs": [
        {
          "output_type": "stream",
          "name": "stdout",
          "text": [
            "score loss 0.038359660655260086\n",
            "score accuracy 98.90999794006348\n"
          ]
        }
      ]
    },
    {
      "cell_type": "code",
      "source": [
        "import numpy as np\n",
        "predict = model.predict(test_imgs) # returns an array of class probabilities for each image in test_imgs\n",
        "pre = np.argmax(predict[3])\n",
        "print(pre)\n",
        "plt.figure()\n",
        "plt.imshow(test_imgs[3])"
      ],
      "metadata": {
        "id": "T6YHj0HJkJGg",
        "outputId": "8e40daf8-92cb-484a-aa1f-be854231197b",
        "colab": {
          "base_uri": "https://localhost:8080/",
          "height": 482
        }
      },
      "execution_count": null,
      "outputs": [
        {
          "output_type": "stream",
          "name": "stdout",
          "text": [
            "313/313 [==============================] - 1s 2ms/step\n",
            "0\n"
          ]
        },
        {
          "output_type": "execute_result",
          "data": {
            "text/plain": [
              "<matplotlib.image.AxesImage at 0x7b6c8a95b940>"
            ]
          },
          "metadata": {},
          "execution_count": 19
        },
        {
          "output_type": "display_data",
          "data": {
            "text/plain": [
              "<Figure size 640x480 with 1 Axes>"
            ],
            "image/png": "[encoded data removed]"
          },
          "metadata": {}
        }
      ]
    },
    {
      "cell_type": "code",
      "source": [
        "predict"
      ],
      "metadata": {
        "colab": {
          "base_uri": "https://localhost:8080/"
        },
        "id": "_STTdurbyRO8",
        "outputId": "bdedc679-bba0-4cdb-9a39-213704a810b9"
      },
      "execution_count": null,
      "outputs": [
        {
          "output_type": "execute_result",
          "data": {
            "text/plain": [
              "array([[9.25153237e-14, 7.97119055e-12, 9.93206051e-09, ...,\n",
              "        1.00000000e+00, 1.40590499e-11, 3.33352479e-09],\n",
              "       [1.49966899e-12, 1.71479900e-10, 1.00000000e+00, ...,\n",
              "        1.70792357e-15, 1.63321908e-11, 7.23638797e-15],\n",
              "       [1.19152880e-07, 9.99886751e-01, 1.84157287e-07, ...,\n",
              "        2.18185796e-05, 8.20118948e-05, 1.12734186e-08],\n",
              "       ...,\n",
              "       [1.00204626e-16, 3.52032416e-14, 5.19442690e-16, ...,\n",
              "        4.51840822e-11, 5.57314250e-10, 5.66028058e-10],\n",
              "       [1.69605961e-13, 1.85111343e-15, 9.10509729e-17, ...,\n",
              "        1.65320665e-13, 1.92336756e-07, 7.18854433e-14],\n",
              "       [1.72360910e-11, 3.78539448e-15, 4.06737404e-12, ...,\n",
              "        7.01111153e-19, 1.40587748e-12, 1.17142260e-14]], dtype=float32)"
            ]
          },
          "metadata": {},
          "execution_count": 20
        }
      ]
    },
    {
      "cell_type": "code",
      "source": [
        "# predicted values from test sample\n",
        "for i in range(10):\n",
        "  plt.subplot(4,4,i+1)\n",
        "  plt.imshow(test_imgs[i],cmap = plt.cm.binary)\n",
        "  plt.axis('off')\n",
        "  plt.title(np.argmax(predict[i]))"
      ],
      "metadata": {
        "colab": {
          "base_uri": "https://localhost:8080/",
          "height": 332
        },
        "id": "GtkNBAHHvsd8",
        "outputId": "d9fb8424-988e-4470-c4eb-21c606ebd70d"
      },
      "execution_count": null,
      "outputs": [
        {
          "output_type": "display_data",
          "data": {
            "text/plain": [
              "<Figure size 640x480 with 10 Axes>"
            ],
            "image/png": "[encoded data removed]"
          },
          "metadata": {}
        }
      ]
    },
    {
      "cell_type": "code",
      "source": [
        "model.save('model.h5')"
      ],
      "metadata": {
        "colab": {
          "base_uri": "https://localhost:8080/"
        },
        "id": "TBSGnJajS2dx",
        "outputId": "cc5d4a71-3f00-45c4-fed8-9058e24e76a6"
      },
      "execution_count": null,
      "outputs": [
        {
          "output_type": "stream",
          "name": "stderr",
          "text": [
            "/usr/local/lib/python3.10/dist-packages/keras/src/engine/training.py:3103: UserWarning: You are saving your model as an HDF5 file via `model.save()`. This file format is considered legacy. We recommend using instead the native Keras format, e.g. `model.save('my_model.keras')`.\n",
            "  saving_api.save_model(\n"
          ]
        }
      ]
    },
    {
      "cell_type": "code",
      "source": [],
      "metadata": {
        "id": "OuW_F-h1mYMu"
      },
      "execution_count": null,
      "outputs": []
    }
  ]
}